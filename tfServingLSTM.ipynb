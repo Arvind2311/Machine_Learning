{
  "nbformat": 4,
  "nbformat_minor": 0,
  "metadata": {
    "colab": {
      "name": "tfServingLSTM.ipynb",
      "version": "0.3.2",
      "provenance": [],
      "collapsed_sections": [],
      "include_colab_link": true
    },
    "kernelspec": {
      "name": "python3",
      "display_name": "Python 3"
    },
    "accelerator": "GPU"
  },
  "cells": [
    {
      "cell_type": "markdown",
      "metadata": {
        "id": "view-in-github",
        "colab_type": "text"
      },
      "source": [
        "<a href=\"https://colab.research.google.com/github/Arvind2311/Machine_Learning/blob/master/tfServingLSTM.ipynb\" target=\"_parent\"><img src=\"https://colab.research.google.com/assets/colab-badge.svg\" alt=\"Open In Colab\"/></a>"
      ]
    },
    {
      "metadata": {
        "id": "ibVlpFHhuCpx",
        "colab_type": "code",
        "outputId": "13dfca35-c4cf-4f15-fa44-e9a6df3c6a3c",
        "colab": {
          "base_uri": "https://localhost:8080/",
          "height": 479
        }
      },
      "cell_type": "code",
      "source": [
        "!rm -r /yolo\n",
        "!ls /\n",
        "from tensorflow.examples.tutorials.mnist import input_data\n",
        "mnist = input_data.read_data_sets(\"data/\",one_hot=True)"
      ],
      "execution_count": 1,
      "outputs": [
        {
          "output_type": "stream",
          "text": [
            "rm: cannot remove '/yolo': No such file or directory\n",
            "1     content  etc   lib32  mnt   root\tsrv    tmp    var\n",
            "bin   datalab  home  lib64  opt   run\tswift  tools\n",
            "boot  dev      lib   media  proc  sbin\tsys    usr\n",
            "WARNING:tensorflow:From <ipython-input-1-e5ff2857d314>:4: read_data_sets (from tensorflow.contrib.learn.python.learn.datasets.mnist) is deprecated and will be removed in a future version.\n",
            "Instructions for updating:\n",
            "Please use alternatives such as official/mnist/dataset.py from tensorflow/models.\n",
            "WARNING:tensorflow:From /usr/local/lib/python3.6/dist-packages/tensorflow/contrib/learn/python/learn/datasets/mnist.py:260: maybe_download (from tensorflow.contrib.learn.python.learn.datasets.base) is deprecated and will be removed in a future version.\n",
            "Instructions for updating:\n",
            "Please write your own downloading logic.\n",
            "WARNING:tensorflow:From /usr/local/lib/python3.6/dist-packages/tensorflow/contrib/learn/python/learn/datasets/mnist.py:262: extract_images (from tensorflow.contrib.learn.python.learn.datasets.mnist) is deprecated and will be removed in a future version.\n",
            "Instructions for updating:\n",
            "Please use tf.data to implement this functionality.\n",
            "Extracting data/train-images-idx3-ubyte.gz\n",
            "WARNING:tensorflow:From /usr/local/lib/python3.6/dist-packages/tensorflow/contrib/learn/python/learn/datasets/mnist.py:267: extract_labels (from tensorflow.contrib.learn.python.learn.datasets.mnist) is deprecated and will be removed in a future version.\n",
            "Instructions for updating:\n",
            "Please use tf.data to implement this functionality.\n",
            "Extracting data/train-labels-idx1-ubyte.gz\n",
            "WARNING:tensorflow:From /usr/local/lib/python3.6/dist-packages/tensorflow/contrib/learn/python/learn/datasets/mnist.py:110: dense_to_one_hot (from tensorflow.contrib.learn.python.learn.datasets.mnist) is deprecated and will be removed in a future version.\n",
            "Instructions for updating:\n",
            "Please use tf.one_hot on tensors.\n",
            "Extracting data/t10k-images-idx3-ubyte.gz\n",
            "Extracting data/t10k-labels-idx1-ubyte.gz\n",
            "WARNING:tensorflow:From /usr/local/lib/python3.6/dist-packages/tensorflow/contrib/learn/python/learn/datasets/mnist.py:290: DataSet.__init__ (from tensorflow.contrib.learn.python.learn.datasets.mnist) is deprecated and will be removed in a future version.\n",
            "Instructions for updating:\n",
            "Please use alternatives such as official/mnist/dataset.py from tensorflow/models.\n"
          ],
          "name": "stdout"
        }
      ]
    },
    {
      "metadata": {
        "id": "Xp_u4B10vWDN",
        "colab_type": "code",
        "colab": {}
      },
      "cell_type": "code",
      "source": [
        "from tensorflow.contrib import rnn\n",
        "import tensorflow as tf"
      ],
      "execution_count": 0,
      "outputs": []
    },
    {
      "metadata": {
        "id": "bZkTTCt3vxF_",
        "colab_type": "code",
        "colab": {}
      },
      "cell_type": "code",
      "source": [
        "#Params\n",
        "time_steps = 28\n",
        "n_hidden = 128\n",
        "n_input = 28\n",
        "n_output = 10\n",
        "\n",
        "#Network Params\n",
        "learning_rate = 0.001\n",
        "batch_size = 128"
      ],
      "execution_count": 0,
      "outputs": []
    },
    {
      "metadata": {
        "id": "kKB5fYCrwC51",
        "colab_type": "code",
        "outputId": "6e2a2e5b-b1ac-4d4f-c8b5-a72bd36dc6f3",
        "colab": {
          "base_uri": "https://localhost:8080/",
          "height": 68
        }
      },
      "cell_type": "code",
      "source": [
        "#Placeholders and variables\n",
        "weights = tf.Variable(tf.random_normal([n_hidden, n_output]))\n",
        "bias = tf.Variable(tf.random_normal([n_output]))\n",
        "\n",
        "x = tf.placeholder(tf.float32, [None, time_steps, n_input])\n",
        "y = tf.placeholder(tf.float32, [None, n_output])"
      ],
      "execution_count": 4,
      "outputs": [
        {
          "output_type": "stream",
          "text": [
            "WARNING:tensorflow:From /usr/local/lib/python3.6/dist-packages/tensorflow/python/framework/op_def_library.py:263: colocate_with (from tensorflow.python.framework.ops) is deprecated and will be removed in a future version.\n",
            "Instructions for updating:\n",
            "Colocations handled automatically by placer.\n"
          ],
          "name": "stdout"
        }
      ]
    },
    {
      "metadata": {
        "id": "--crwrTzwgbT",
        "colab_type": "code",
        "colab": {}
      },
      "cell_type": "code",
      "source": [
        "# Making the input from [batch_size, time_steps, n_input] -> time_steps*[batch_size, n_input]\n",
        "input = tf.unstack(x, time_steps, 1)"
      ],
      "execution_count": 0,
      "outputs": []
    },
    {
      "metadata": {
        "id": "vaPHJIJLw12a",
        "colab_type": "code",
        "outputId": "b2676725-5c98-49be-f1c8-29724cbe720e",
        "colab": {
          "base_uri": "https://localhost:8080/",
          "height": 119
        }
      },
      "cell_type": "code",
      "source": [
        "# Defining network\n",
        "lstm_layer=rnn.BasicLSTMCell(n_hidden,forget_bias=1)\n",
        "outputs,_=rnn.static_rnn(lstm_layer,input,dtype=\"float32\")\n",
        "\n",
        "#converting last output of dimension [batch_size,n_hidden] to [batch_size,n_output] by out_weight multiplication\n",
        "prediction=tf.matmul(outputs[-1],weights)+bias"
      ],
      "execution_count": 6,
      "outputs": [
        {
          "output_type": "stream",
          "text": [
            "WARNING:tensorflow:From <ipython-input-6-0253da74ce59>:1: BasicLSTMCell.__init__ (from tensorflow.python.ops.rnn_cell_impl) is deprecated and will be removed in a future version.\n",
            "Instructions for updating:\n",
            "This class is equivalent as tf.keras.layers.LSTMCell, and will be replaced by that in Tensorflow 2.0.\n",
            "WARNING:tensorflow:From <ipython-input-6-0253da74ce59>:2: static_rnn (from tensorflow.python.ops.rnn) is deprecated and will be removed in a future version.\n",
            "Instructions for updating:\n",
            "Please use `keras.layers.RNN(cell, unroll=True)`, which is equivalent to this API\n"
          ],
          "name": "stdout"
        }
      ]
    },
    {
      "metadata": {
        "id": "gGfnYooCxWN_",
        "colab_type": "code",
        "colab": {}
      },
      "cell_type": "code",
      "source": [
        "#loss_function\n",
        "loss=tf.reduce_mean(tf.nn.softmax_cross_entropy_with_logits_v2(logits=prediction,labels=y))\n",
        "#optimization\n",
        "opt=tf.train.AdamOptimizer(learning_rate=learning_rate).minimize(loss)\n",
        "\n",
        "#model evaluation\n",
        "correct_prediction=tf.equal(tf.argmax(prediction,1),tf.argmax(y,1))\n",
        "accuracy=tf.reduce_mean(tf.cast(correct_prediction,tf.float32))"
      ],
      "execution_count": 0,
      "outputs": []
    },
    {
      "metadata": {
        "id": "EurrRtH6xXNZ",
        "colab_type": "code",
        "outputId": "c3b2e66f-9d68-4197-c836-da8e542f7349",
        "colab": {
          "base_uri": "https://localhost:8080/",
          "height": 5457
        }
      },
      "cell_type": "code",
      "source": [
        "#initialize variables\n",
        "init=tf.global_variables_initializer()\n",
        "!rm -r /2\n",
        "builder = tf.saved_model.Builder(\"/yolo/1\")\n",
        "with tf.Session() as sess:\n",
        "    sess.run(init)\n",
        "    iter=1\n",
        "    while iter<800:\n",
        "        batch_x,batch_y=mnist.train.next_batch(batch_size=batch_size)\n",
        "\n",
        "        batch_x=batch_x.reshape((batch_size,time_steps,n_input))\n",
        "\n",
        "        sess.run(opt, feed_dict={x: batch_x, y: batch_y})\n",
        "\n",
        "        if iter %10==0:\n",
        "            acc=sess.run(accuracy,feed_dict={x:batch_x,y:batch_y})\n",
        "            los=sess.run(loss,feed_dict={x:batch_x,y:batch_y})\n",
        "            print(\"For iter \",iter)\n",
        "            print(\"Accuracy \",acc)\n",
        "            print(\"Loss \",los)\n",
        "            print(\"__________________\")\n",
        "\n",
        "        iter=iter+1\n",
        "    \n",
        "    builder.add_meta_graph_and_variables(sess,\n",
        "                                         [\"serve\"]\n",
        "                                        )\n",
        "    \n",
        "    builder.save()\n",
        "    sess.close()"
      ],
      "execution_count": 8,
      "outputs": [
        {
          "output_type": "stream",
          "text": [
            "rm: cannot remove '/2': No such file or directory\n",
            "For iter  10\n",
            "Accuracy  0.34375\n",
            "Loss  1.8381665\n",
            "__________________\n",
            "For iter  20\n",
            "Accuracy  0.4765625\n",
            "Loss  1.4784718\n",
            "__________________\n",
            "For iter  30\n",
            "Accuracy  0.546875\n",
            "Loss  1.3266886\n",
            "__________________\n",
            "For iter  40\n",
            "Accuracy  0.640625\n",
            "Loss  1.0955858\n",
            "__________________\n",
            "For iter  50\n",
            "Accuracy  0.6171875\n",
            "Loss  1.1558287\n",
            "__________________\n",
            "For iter  60\n",
            "Accuracy  0.765625\n",
            "Loss  0.65772283\n",
            "__________________\n",
            "For iter  70\n",
            "Accuracy  0.734375\n",
            "Loss  0.6696626\n",
            "__________________\n",
            "For iter  80\n",
            "Accuracy  0.8828125\n",
            "Loss  0.47566122\n",
            "__________________\n",
            "For iter  90\n",
            "Accuracy  0.8671875\n",
            "Loss  0.5304836\n",
            "__________________\n",
            "For iter  100\n",
            "Accuracy  0.8359375\n",
            "Loss  0.45741713\n",
            "__________________\n",
            "For iter  110\n",
            "Accuracy  0.8671875\n",
            "Loss  0.4322006\n",
            "__________________\n",
            "For iter  120\n",
            "Accuracy  0.84375\n",
            "Loss  0.3906594\n",
            "__________________\n",
            "For iter  130\n",
            "Accuracy  0.84375\n",
            "Loss  0.4154219\n",
            "__________________\n",
            "For iter  140\n",
            "Accuracy  0.8515625\n",
            "Loss  0.45834693\n",
            "__________________\n",
            "For iter  150\n",
            "Accuracy  0.8671875\n",
            "Loss  0.4241374\n",
            "__________________\n",
            "For iter  160\n",
            "Accuracy  0.8984375\n",
            "Loss  0.37585753\n",
            "__________________\n",
            "For iter  170\n",
            "Accuracy  0.8984375\n",
            "Loss  0.4023998\n",
            "__________________\n",
            "For iter  180\n",
            "Accuracy  0.8828125\n",
            "Loss  0.32267675\n",
            "__________________\n",
            "For iter  190\n",
            "Accuracy  0.890625\n",
            "Loss  0.3441108\n",
            "__________________\n",
            "For iter  200\n",
            "Accuracy  0.8828125\n",
            "Loss  0.38226008\n",
            "__________________\n",
            "For iter  210\n",
            "Accuracy  0.9140625\n",
            "Loss  0.27521506\n",
            "__________________\n",
            "For iter  220\n",
            "Accuracy  0.921875\n",
            "Loss  0.21922138\n",
            "__________________\n",
            "For iter  230\n",
            "Accuracy  0.9140625\n",
            "Loss  0.29910585\n",
            "__________________\n",
            "For iter  240\n",
            "Accuracy  0.921875\n",
            "Loss  0.176156\n",
            "__________________\n",
            "For iter  250\n",
            "Accuracy  0.9609375\n",
            "Loss  0.15975034\n",
            "__________________\n",
            "For iter  260\n",
            "Accuracy  0.9140625\n",
            "Loss  0.21118477\n",
            "__________________\n",
            "For iter  270\n",
            "Accuracy  0.9453125\n",
            "Loss  0.1615709\n",
            "__________________\n",
            "For iter  280\n",
            "Accuracy  0.921875\n",
            "Loss  0.26782614\n",
            "__________________\n",
            "For iter  290\n",
            "Accuracy  0.9765625\n",
            "Loss  0.12728666\n",
            "__________________\n",
            "For iter  300\n",
            "Accuracy  0.9453125\n",
            "Loss  0.27726492\n",
            "__________________\n",
            "For iter  310\n",
            "Accuracy  0.9765625\n",
            "Loss  0.09487346\n",
            "__________________\n",
            "For iter  320\n",
            "Accuracy  0.9296875\n",
            "Loss  0.14624119\n",
            "__________________\n",
            "For iter  330\n",
            "Accuracy  0.90625\n",
            "Loss  0.28215462\n",
            "__________________\n",
            "For iter  340\n",
            "Accuracy  0.9765625\n",
            "Loss  0.11171092\n",
            "__________________\n",
            "For iter  350\n",
            "Accuracy  0.890625\n",
            "Loss  0.315476\n",
            "__________________\n",
            "For iter  360\n",
            "Accuracy  0.9296875\n",
            "Loss  0.27730235\n",
            "__________________\n",
            "For iter  370\n",
            "Accuracy  0.9453125\n",
            "Loss  0.17216584\n",
            "__________________\n",
            "For iter  380\n",
            "Accuracy  0.9296875\n",
            "Loss  0.2486013\n",
            "__________________\n",
            "For iter  390\n",
            "Accuracy  0.921875\n",
            "Loss  0.18730533\n",
            "__________________\n",
            "For iter  400\n",
            "Accuracy  0.9609375\n",
            "Loss  0.10114837\n",
            "__________________\n",
            "For iter  410\n",
            "Accuracy  0.9375\n",
            "Loss  0.20535728\n",
            "__________________\n",
            "For iter  420\n",
            "Accuracy  0.9765625\n",
            "Loss  0.07521386\n",
            "__________________\n",
            "For iter  430\n",
            "Accuracy  0.96875\n",
            "Loss  0.094184935\n",
            "__________________\n",
            "For iter  440\n",
            "Accuracy  0.9921875\n",
            "Loss  0.05266955\n",
            "__________________\n",
            "For iter  450\n",
            "Accuracy  0.9296875\n",
            "Loss  0.20216869\n",
            "__________________\n",
            "For iter  460\n",
            "Accuracy  0.9609375\n",
            "Loss  0.11817099\n",
            "__________________\n",
            "For iter  470\n",
            "Accuracy  0.9609375\n",
            "Loss  0.12376974\n",
            "__________________\n",
            "For iter  480\n",
            "Accuracy  0.9765625\n",
            "Loss  0.069905445\n",
            "__________________\n",
            "For iter  490\n",
            "Accuracy  0.9765625\n",
            "Loss  0.087301746\n",
            "__________________\n",
            "For iter  500\n",
            "Accuracy  0.9375\n",
            "Loss  0.15517417\n",
            "__________________\n",
            "For iter  510\n",
            "Accuracy  0.9453125\n",
            "Loss  0.12444244\n",
            "__________________\n",
            "For iter  520\n",
            "Accuracy  0.9609375\n",
            "Loss  0.12440481\n",
            "__________________\n",
            "For iter  530\n",
            "Accuracy  0.9453125\n",
            "Loss  0.12426811\n",
            "__________________\n",
            "For iter  540\n",
            "Accuracy  0.984375\n",
            "Loss  0.094902046\n",
            "__________________\n",
            "For iter  550\n",
            "Accuracy  0.9765625\n",
            "Loss  0.08086689\n",
            "__________________\n",
            "For iter  560\n",
            "Accuracy  0.96875\n",
            "Loss  0.1215194\n",
            "__________________\n",
            "For iter  570\n",
            "Accuracy  0.953125\n",
            "Loss  0.11290945\n",
            "__________________\n",
            "For iter  580\n",
            "Accuracy  0.9609375\n",
            "Loss  0.12454408\n",
            "__________________\n",
            "For iter  590\n",
            "Accuracy  0.9609375\n",
            "Loss  0.16061044\n",
            "__________________\n",
            "For iter  600\n",
            "Accuracy  0.9453125\n",
            "Loss  0.14603865\n",
            "__________________\n",
            "For iter  610\n",
            "Accuracy  0.984375\n",
            "Loss  0.07733288\n",
            "__________________\n",
            "For iter  620\n",
            "Accuracy  0.984375\n",
            "Loss  0.041440427\n",
            "__________________\n",
            "For iter  630\n",
            "Accuracy  0.953125\n",
            "Loss  0.09309712\n",
            "__________________\n",
            "For iter  640\n",
            "Accuracy  0.96875\n",
            "Loss  0.1370864\n",
            "__________________\n",
            "For iter  650\n",
            "Accuracy  0.9609375\n",
            "Loss  0.09043252\n",
            "__________________\n",
            "For iter  660\n",
            "Accuracy  0.9609375\n",
            "Loss  0.13890684\n",
            "__________________\n",
            "For iter  670\n",
            "Accuracy  0.984375\n",
            "Loss  0.05336368\n",
            "__________________\n",
            "For iter  680\n",
            "Accuracy  0.96875\n",
            "Loss  0.09259711\n",
            "__________________\n",
            "For iter  690\n",
            "Accuracy  0.9375\n",
            "Loss  0.18315716\n",
            "__________________\n",
            "For iter  700\n",
            "Accuracy  0.953125\n",
            "Loss  0.14009015\n",
            "__________________\n",
            "For iter  710\n",
            "Accuracy  0.984375\n",
            "Loss  0.051599063\n",
            "__________________\n",
            "For iter  720\n",
            "Accuracy  0.9609375\n",
            "Loss  0.08201461\n",
            "__________________\n",
            "For iter  730\n",
            "Accuracy  0.953125\n",
            "Loss  0.13256839\n",
            "__________________\n",
            "For iter  740\n",
            "Accuracy  0.984375\n",
            "Loss  0.045909792\n",
            "__________________\n",
            "For iter  750\n",
            "Accuracy  0.9921875\n",
            "Loss  0.04124857\n",
            "__________________\n",
            "For iter  760\n",
            "Accuracy  0.9609375\n",
            "Loss  0.116808854\n",
            "__________________\n",
            "For iter  770\n",
            "Accuracy  0.9609375\n",
            "Loss  0.1045005\n",
            "__________________\n",
            "For iter  780\n",
            "Accuracy  0.9765625\n",
            "Loss  0.086628094\n",
            "__________________\n",
            "For iter  790\n",
            "Accuracy  0.953125\n",
            "Loss  0.14394768\n",
            "__________________\n",
            "INFO:tensorflow:No assets to save.\n",
            "INFO:tensorflow:No assets to write.\n",
            "INFO:tensorflow:SavedModel written to: /yolo/1/saved_model.pb\n"
          ],
          "name": "stdout"
        }
      ]
    },
    {
      "metadata": {
        "id": "lond-uP1pb-Q",
        "colab_type": "code",
        "outputId": "78f2bc2d-6f11-4edb-e241-95efe058e450",
        "colab": {
          "base_uri": "https://localhost:8080/",
          "height": 306
        }
      },
      "cell_type": "code",
      "source": [
        "!saved_model_cli show --dir /2 --tag_set serve\n",
        "!ls"
      ],
      "execution_count": 9,
      "outputs": [
        {
          "output_type": "stream",
          "text": [
            "Traceback (most recent call last):\n",
            "  File \"/usr/local/bin/saved_model_cli\", line 10, in <module>\n",
            "    sys.exit(main())\n",
            "  File \"/usr/local/lib/python2.7/dist-packages/tensorflow/python/tools/saved_model_cli.py\", line 910, in main\n",
            "    args.func(args)\n",
            "  File \"/usr/local/lib/python2.7/dist-packages/tensorflow/python/tools/saved_model_cli.py\", line 620, in show\n",
            "    _show_signature_def_map_keys(args.dir, args.tag_set)\n",
            "  File \"/usr/local/lib/python2.7/dist-packages/tensorflow/python/tools/saved_model_cli.py\", line 77, in _show_signature_def_map_keys\n",
            "    signature_def_map = get_signature_def_map(saved_model_dir, tag_set)\n",
            "  File \"/usr/local/lib/python2.7/dist-packages/tensorflow/python/tools/saved_model_cli.py\", line 243, in get_signature_def_map\n",
            "    meta_graph = saved_model_utils.get_meta_graph_def(saved_model_dir, tag_set)\n",
            "  File \"/usr/local/lib/python2.7/dist-packages/tensorflow/python/tools/saved_model_utils.py\", line 42, in get_meta_graph_def\n",
            "    saved_model = reader.read_saved_model(saved_model_dir)\n",
            "  File \"/usr/local/lib/python2.7/dist-packages/tensorflow/contrib/saved_model/python/saved_model/reader.py\", line 55, in read_saved_model\n",
            "    raise IOError(\"SavedModel file does not exist at: %s\" % saved_model_dir)\n",
            "IOError: SavedModel file does not exist at: /2\n",
            "data  sample_data\n"
          ],
          "name": "stdout"
        }
      ]
    },
    {
      "metadata": {
        "id": "LKL203-at0D7",
        "colab_type": "code",
        "outputId": "a8ba5be9-146c-4be3-d686-49e9accf835f",
        "colab": {
          "base_uri": "https://localhost:8080/",
          "height": 173
        }
      },
      "cell_type": "code",
      "source": [
        "with tf.Session() as sess1:\n",
        "  tf.saved_model.loader.load(\n",
        "      sess1,\n",
        "      [\"serve\"],\n",
        "      export_dir=\"/yolo/1\"\n",
        "  )\n",
        "  \n",
        "  #calculating test accuracy\n",
        "  test_data = mnist.test.images[:128].reshape((-1, time_steps, n_input))\n",
        "  test_label = mnist.test.labels[:128]\n",
        "  print(\"Testing Accuracy:\", sess1.run(accuracy, feed_dict={x: test_data, y: test_label}))"
      ],
      "execution_count": 10,
      "outputs": [
        {
          "output_type": "stream",
          "text": [
            "WARNING:tensorflow:From <ipython-input-10-e0a42019f13c>:5: load (from tensorflow.python.saved_model.loader_impl) is deprecated and will be removed in a future version.\n",
            "Instructions for updating:\n",
            "This function will only be available through the v1 compatibility library as tf.compat.v1.saved_model.loader.load or tf.compat.v1.saved_model.load. There will be a new function for importing SavedModels in Tensorflow 2.0.\n",
            "WARNING:tensorflow:From /usr/local/lib/python3.6/dist-packages/tensorflow/python/training/saver.py:1266: checkpoint_exists (from tensorflow.python.training.checkpoint_management) is deprecated and will be removed in a future version.\n",
            "Instructions for updating:\n",
            "Use standard file APIs to check for files with this prefix.\n",
            "INFO:tensorflow:Restoring parameters from /yolo/1/variables/variables\n",
            "Testing Accuracy: 0.9765625\n"
          ],
          "name": "stdout"
        }
      ]
    },
    {
      "metadata": {
        "id": "ADDsrMuW4opr",
        "colab_type": "code",
        "outputId": "c683153f-bc71-4d31-ab71-370172bd18c7",
        "colab": {
          "base_uri": "https://localhost:8080/",
          "height": 391
        }
      },
      "cell_type": "code",
      "source": [
        "# This is the same as you would do from your command line, but without the [arch=amd64], and no sudo\n",
        "# You would instead do:\n",
        "# echo \"deb [arch=amd64] http://storage.googleapis.com/tensorflow-serving-apt stable tensorflow-model-server tensorflow-model-server-universal\" | sudo tee /etc/apt/sources.list.d/tensorflow-serving.list && \\\n",
        "# curl https://storage.googleapis.com/tensorflow-serving-apt/tensorflow-serving.release.pub.gpg | sudo apt-key add -\n",
        "\n",
        "!echo \"deb http://storage.googleapis.com/tensorflow-serving-apt stable tensorflow-model-server tensorflow-model-server-universal\" | tee /etc/apt/sources.list.d/tensorflow-serving.list && \\\n",
        "curl https://storage.googleapis.com/tensorflow-serving-apt/tensorflow-serving.release.pub.gpg | apt-key add -\n",
        "!apt update"
      ],
      "execution_count": 11,
      "outputs": [
        {
          "output_type": "stream",
          "text": [
            "deb http://storage.googleapis.com/tensorflow-serving-apt stable tensorflow-model-server tensorflow-model-server-universal\n",
            "  % Total    % Received % Xferd  Average Speed   Time    Time     Time  Current\n",
            "                                 Dload  Upload   Total   Spent    Left  Speed\n",
            "\r  0     0    0     0    0     0      0      0 --:--:-- --:--:-- --:--:--     0\r100  2343  100  2343    0     0   6436      0 --:--:-- --:--:-- --:--:--  6436\n",
            "OK\n",
            "Hit:1 https://cloud.r-project.org/bin/linux/ubuntu bionic-cran35/ InRelease\n",
            "Hit:2 http://storage.googleapis.com/tensorflow-serving-apt stable InRelease\n",
            "Ign:3 https://developer.download.nvidia.com/compute/cuda/repos/ubuntu1804/x86_64  InRelease\n",
            "Get:4 http://security.ubuntu.com/ubuntu bionic-security InRelease [88.7 kB]\n",
            "Ign:5 https://developer.download.nvidia.com/compute/machine-learning/repos/ubuntu1804/x86_64  InRelease\n",
            "Hit:6 https://developer.download.nvidia.com/compute/cuda/repos/ubuntu1804/x86_64  Release\n",
            "Hit:7 https://developer.download.nvidia.com/compute/machine-learning/repos/ubuntu1804/x86_64  Release\n",
            "Hit:8 http://archive.ubuntu.com/ubuntu bionic InRelease\n",
            "Hit:9 http://ppa.launchpad.net/graphics-drivers/ppa/ubuntu bionic InRelease\n",
            "Get:11 http://archive.ubuntu.com/ubuntu bionic-updates InRelease [88.7 kB]\n",
            "Hit:13 http://ppa.launchpad.net/marutter/c2d4u3.5/ubuntu bionic InRelease\n",
            "Get:14 http://archive.ubuntu.com/ubuntu bionic-backports InRelease [74.6 kB]\n",
            "Fetched 252 kB in 2s (121 kB/s)\n",
            "Reading package lists... Done\n",
            "Building dependency tree       \n",
            "Reading state information... Done\n",
            "20 packages can be upgraded. Run 'apt list --upgradable' to see them.\n"
          ],
          "name": "stdout"
        }
      ]
    },
    {
      "metadata": {
        "id": "5bsPX5NP4gKT",
        "colab_type": "code",
        "outputId": "4f2c6bb8-fb99-4582-ceb3-f2e60ec408e8",
        "colab": {
          "base_uri": "https://localhost:8080/",
          "height": 153
        }
      },
      "cell_type": "code",
      "source": [
        "!apt-get install tensorflow-model-server"
      ],
      "execution_count": 12,
      "outputs": [
        {
          "output_type": "stream",
          "text": [
            "Reading package lists... Done\n",
            "Building dependency tree       \n",
            "Reading state information... Done\n",
            "tensorflow-model-server is already the newest version (1.13.0).\n",
            "The following package was automatically installed and is no longer required:\n",
            "  libnvidia-common-410\n",
            "Use 'apt autoremove' to remove it.\n",
            "0 upgraded, 0 newly installed, 0 to remove and 20 not upgraded.\n"
          ],
          "name": "stdout"
        }
      ]
    },
    {
      "metadata": {
        "id": "yv15FYs26dER",
        "colab_type": "code",
        "outputId": "a06f0358-04a1-4115-a778-cd80b1e55dad",
        "colab": {
          "base_uri": "https://localhost:8080/",
          "height": 374
        }
      },
      "cell_type": "code",
      "source": [
        "!ls /\n",
        "!tensorflow_model_server --rest_api_port=8501 --model_base_path=/yolo --model_name=saved_model"
      ],
      "execution_count": 13,
      "outputs": [
        {
          "output_type": "stream",
          "text": [
            "1     content  etc   lib32  mnt   root\tsrv    tmp    var\n",
            "bin   datalab  home  lib64  opt   run\tswift  tools  yolo\n",
            "boot  dev      lib   media  proc  sbin\tsys    usr\n",
            "2019-04-14 05:28:13.053293: I tensorflow_serving/model_servers/server.cc:82] Building single TensorFlow model file config:  model_name: saved_model model_base_path: /yolo\n",
            "2019-04-14 05:28:13.053535: I tensorflow_serving/model_servers/server_core.cc:461] Adding/updating models.\n",
            "2019-04-14 05:28:13.053571: I tensorflow_serving/model_servers/server_core.cc:558]  (Re-)adding model: saved_model\n",
            "2019-04-14 05:28:13.153848: I tensorflow_serving/core/basic_manager.cc:739] Successfully reserved resources to load servable {name: saved_model version: 1}\n",
            "2019-04-14 05:28:13.153884: I tensorflow_serving/core/loader_harness.cc:66] Approving load for servable version {name: saved_model version: 1}\n",
            "2019-04-14 05:28:13.153908: I tensorflow_serving/core/loader_harness.cc:74] Loading servable version {name: saved_model version: 1}\n",
            "2019-04-14 05:28:13.153941: I external/org_tensorflow/tensorflow/contrib/session_bundle/bundle_shim.cc:363] Attempting to load native SavedModelBundle in bundle-shim from: /yolo/1\n",
            "2019-04-14 05:28:13.153967: I external/org_tensorflow/tensorflow/cc/saved_model/reader.cc:31] Reading SavedModel from: /yolo/1\n",
            "2019-04-14 05:28:13.162602: I external/org_tensorflow/tensorflow/cc/saved_model/reader.cc:54] Reading meta graph with tags { serve }\n",
            "2019-04-14 05:28:13.171228: I external/org_tensorflow/tensorflow/core/platform/cpu_feature_guard.cc:141] Your CPU supports instructions that this TensorFlow binary was not compiled to use: AVX2 FMA\n",
            "2019-04-14 05:28:13.203255: I external/org_tensorflow/tensorflow/cc/saved_model/loader.cc:182] Restoring SavedModel bundle.\n",
            "2019-04-14 05:28:13.243198: I external/org_tensorflow/tensorflow/cc/saved_model/loader.cc:285] SavedModel load for tags { serve }; Status: success. Took 89224 microseconds.\n",
            "2019-04-14 05:28:13.243268: I tensorflow_serving/servables/tensorflow/saved_model_warmup.cc:101] No warmup data file found at /yolo/1/assets.extra/tf_serving_warmup_requests\n",
            "2019-04-14 05:28:13.243378: I tensorflow_serving/core/loader_harness.cc:86] Successfully loaded servable version {name: saved_model version: 1}\n",
            "2019-04-14 05:28:13.244989: I tensorflow_serving/model_servers/server.cc:313] Running gRPC ModelServer at 0.0.0.0:8500 ...\n",
            "2019-04-14 05:28:13.245701: I tensorflow_serving/model_servers/server.cc:333] Exporting HTTP/REST API at:localhost:8501 ...\n",
            "[evhttp_server.cc : 237] RAW: Entering the event loop ...\n",
            "^C\n"
          ],
          "name": "stdout"
        }
      ]
    }
  ]
}